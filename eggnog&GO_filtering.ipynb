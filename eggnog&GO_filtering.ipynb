{
 "cells": [
  {
   "cell_type": "code",
   "execution_count": 71,
   "metadata": {},
   "outputs": [],
   "source": [
    "pep = \"/mnt/data/lizards/dasha/raddei/transdecoder/Trinity.fasta.transdecoder.pep\"\n",
    "all_transcripts = []\n",
    "counter = {}\n",
    "n = 0\n",
    "with open(pep) as pp:\n",
    "    for line in pp:\n",
    "        line = line.split()\n",
    "        #print(line)\n",
    "        if \"TRINITY\" in line[0] and \"p1\" in line[0]:\n",
    "            all_transcripts.append(line[0])\n",
    "            n +=1 \n",
    "        "
   ]
  },
  {
   "cell_type": "code",
   "execution_count": 72,
   "metadata": {},
   "outputs": [
    {
     "data": {
      "text/plain": [
       "106913"
      ]
     },
     "execution_count": 72,
     "metadata": {},
     "output_type": "execute_result"
    }
   ],
   "source": [
    "n"
   ]
  },
  {
   "cell_type": "code",
   "execution_count": 94,
   "metadata": {},
   "outputs": [],
   "source": [
    "from itertools import groupby"
   ]
  },
  {
   "cell_type": "code",
   "execution_count": 74,
   "metadata": {},
   "outputs": [],
   "source": [
    "eggnog = \"/mnt/data/lizards/dasha/val/emapp_pep_val.emapper.annotations\"\n",
    "filtered_list = []\n",
    "with open(eggnog) as egg:\n",
    "    for line in egg:\n",
    "        line = line.split()\n",
    "        if \"e-\" in line[2]:\n",
    "            if float(line[2]) <= 1e-5:\n",
    "                #print(line)\n",
    "                filtered_list.append(line)\n",
    "            else:\n",
    "                continue\n",
    "        else:\n",
    "            continue\n"
   ]
  },
  {
   "cell_type": "code",
   "execution_count": 55,
   "metadata": {},
   "outputs": [],
   "source": [
    "## вытаскиваем гены из отфильтрованой аннотации\n",
    "genes = []\n",
    "for g in filtered_list:\n",
    "    #print(g[5])\n",
    "    if len(g[5]) <= 5:\n",
    "        genes.append(g[5])\n",
    "    else:\n",
    "        continue"
   ]
  },
  {
   "cell_type": "code",
   "execution_count": 56,
   "metadata": {},
   "outputs": [
    {
     "name": "stdout",
     "output_type": "stream",
     "text": [
      "15398\n"
     ]
    }
   ],
   "source": [
    "### убираем дупликаты и получаем полный список генов c eggnog\n",
    "genes = [el for el, _ in groupby(genes)]\n",
    "print(len(genes))"
   ]
  },
  {
   "cell_type": "code",
   "execution_count": 99,
   "metadata": {},
   "outputs": [],
   "source": [
    "### фильтруем GO\n",
    "annotation2 = []\n",
    "with open(eggnog) as egg:\n",
    "    for line in egg:\n",
    "        line = line.split()\n",
    "        if \"e-\" in line[2]:\n",
    "            if float(line[2]) <= 1e-5:\n",
    "                #print(line)\n",
    "                annotation2.append(line)\n",
    "            else:\n",
    "                continue\n",
    "        else:\n",
    "            continue\n",
    "\n",
    "for i in annotation2:\n",
    "    if i[0] == \"#\" or i[0] == \"#query_name\":\n",
    "        annotation2.remove(i)\n",
    "    else:\n",
    "        continue\n",
    "## получаем словарь с транскриптом и всеми GO \n",
    "final_GO = {}\n",
    "for n in annotation2:\n",
    "    final_GO[n[0]] = n[6]"
   ]
  },
  {
   "cell_type": "code",
   "execution_count": 100,
   "metadata": {},
   "outputs": [],
   "source": [
    "## закидываем все GO термины в список test_list\n",
    "test_list = []\n",
    "for key, values in final_GO.items():\n",
    "    values = values.split(\",\")\n",
    "    test_list.append(values)\n",
    "### объединяем группу списков один список \n",
    "flat_test_list = [item for sublist in test_list for item in sublist]\n",
    "\n"
   ]
  },
  {
   "cell_type": "code",
   "execution_count": 101,
   "metadata": {},
   "outputs": [],
   "source": [
    "Vse_go = []\n",
    "for i in flat_test_list:\n",
    "    if i.startswith(\"GO\"):\n",
    "        #rint(i)\n",
    "        Vse_go.append(i)  \n",
    "    else:\n",
    "        continue\n"
   ]
  },
  {
   "cell_type": "code",
   "execution_count": 102,
   "metadata": {},
   "outputs": [],
   "source": [
    "Vse_go = [el for el, _ in groupby(Vse_go)]"
   ]
  },
  {
   "cell_type": "code",
   "execution_count": 103,
   "metadata": {},
   "outputs": [
    {
     "data": {
      "text/plain": [
       "8645709"
      ]
     },
     "execution_count": 103,
     "metadata": {},
     "output_type": "execute_result"
    }
   ],
   "source": [
    "len(Vse_go)"
   ]
  },
  {
   "cell_type": "code",
   "execution_count": null,
   "metadata": {},
   "outputs": [],
   "source": []
  }
 ],
 "metadata": {
  "kernelspec": {
   "display_name": "Python 3",
   "language": "python",
   "name": "python3"
  },
  "language_info": {
   "codemirror_mode": {
    "name": "ipython",
    "version": 3
   },
   "file_extension": ".py",
   "mimetype": "text/x-python",
   "name": "python",
   "nbconvert_exporter": "python",
   "pygments_lexer": "ipython3",
   "version": "3.8.5"
  }
 },
 "nbformat": 4,
 "nbformat_minor": 4
}
