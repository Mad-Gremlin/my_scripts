{
 "cells": [
  {
   "cell_type": "code",
   "execution_count": 230,
   "metadata": {
    "scrolled": false
   },
   "outputs": [],
   "source": [
    "trancedecoder = \"/mnt/data/lizards/dasha/transdecoder_Dar/Trinity.fasta.transdecoder.pep\"\n",
    "len_contig = []\n",
    "len_results = []\n",
    "with open(trancedecoder) as tr:\n",
    "    for line in tr:\n",
    "        #line = line.split()\n",
    "        if line.startswith(\">\"):\n",
    "            line = line.split()\n",
    "            len_contig.append(line[4])\n",
    "        else:\n",
    "            continue\n",
    "for l in len_contig:\n",
    "    l = l.split(\":\")\n",
    "    len_results.append(int(l[1]))\n",
    "    \n",
    "trinity = \"/mnt/data/lizards/forNCBI/dobi/15/Trinity.fasta\"\n",
    "trinity_len_contigs = []\n",
    "with open(trinity) as tri:\n",
    "    for line in tri:\n",
    "        if not line.startswith(\">\"):\n",
    "            trinity_len_contigs.append(len(line))\n",
    "            #print(len(line))\n",
    "        else:\n",
    "            continue"
   ]
  },
  {
   "cell_type": "code",
   "execution_count": 231,
   "metadata": {
    "scrolled": true
   },
   "outputs": [
    {
     "data": {
      "text/plain": [
       "278.0990394213194"
      ]
     },
     "execution_count": 231,
     "metadata": {},
     "output_type": "execute_result"
    }
   ],
   "source": [
    "sum(len_results) / len(len_results)"
   ]
  },
  {
   "cell_type": "code",
   "execution_count": 229,
   "metadata": {
    "scrolled": true
   },
   "outputs": [
    {
     "data": {
      "text/plain": [
       "826.2770779023947"
      ]
     },
     "execution_count": 229,
     "metadata": {},
     "output_type": "execute_result"
    }
   ],
   "source": [
    "sum(trinity_len_contigs) / len(trinity_len_contigs)\n"
   ]
  },
  {
   "cell_type": "code",
   "execution_count": 189,
   "metadata": {},
   "outputs": [],
   "source": []
  },
  {
   "cell_type": "code",
   "execution_count": null,
   "metadata": {},
   "outputs": [],
   "source": []
  },
  {
   "cell_type": "code",
   "execution_count": null,
   "metadata": {},
   "outputs": [],
   "source": []
  },
  {
   "cell_type": "code",
   "execution_count": null,
   "metadata": {},
   "outputs": [],
   "source": []
  },
  {
   "cell_type": "code",
   "execution_count": null,
   "metadata": {},
   "outputs": [],
   "source": []
  }
 ],
 "metadata": {
  "kernelspec": {
   "display_name": "Python 3",
   "language": "python",
   "name": "python3"
  },
  "language_info": {
   "codemirror_mode": {
    "name": "ipython",
    "version": 3
   },
   "file_extension": ".py",
   "mimetype": "text/x-python",
   "name": "python",
   "nbconvert_exporter": "python",
   "pygments_lexer": "ipython3",
   "version": "3.8.5"
  }
 },
 "nbformat": 4,
 "nbformat_minor": 4
}
